{
 "cells": [
  {
   "cell_type": "code",
   "execution_count": 1,
   "metadata": {},
   "outputs": [],
   "source": [
    "import numpy as np\n",
    "import pandas as pd"
   ]
  },
  {
   "cell_type": "code",
   "execution_count": 2,
   "metadata": {},
   "outputs": [],
   "source": [
    "df = pd.read_csv('avocado.csv')"
   ]
  },
  {
   "cell_type": "code",
   "execution_count": 3,
   "metadata": {},
   "outputs": [],
   "source": [
    "from sqlalchemy import create_engine\n",
    "from pandas.io import sql\n",
    "engine = create_engine('sqlite:///:memory:')\n",
    "df.to_sql('avocado',engine)"
   ]
  },
  {
   "cell_type": "code",
   "execution_count": 4,
   "metadata": {},
   "outputs": [
    {
     "data": {
      "text/plain": [
       "Index(['Unnamed: 0', 'Date', 'AveragePrice', 'Total Volume', '4046', '4225',\n",
       "       '4770', 'Total Bags', 'Small Bags', 'Large Bags', 'XLarge Bags', 'type',\n",
       "       'year', 'region'],\n",
       "      dtype='object')"
      ]
     },
     "execution_count": 4,
     "metadata": {},
     "output_type": "execute_result"
    }
   ],
   "source": [
    "df.columns"
   ]
  },
  {
   "cell_type": "code",
   "execution_count": 5,
   "metadata": {},
   "outputs": [
    {
     "data": {
      "text/plain": [
       "array(['Albany', 'Atlanta', 'BaltimoreWashington', 'Boise', 'Boston',\n",
       "       'BuffaloRochester', 'California', 'Charlotte', 'Chicago',\n",
       "       'CincinnatiDayton', 'Columbus', 'DallasFtWorth', 'Denver',\n",
       "       'Detroit', 'GrandRapids', 'GreatLakes', 'HarrisburgScranton',\n",
       "       'HartfordSpringfield', 'Houston', 'Indianapolis', 'Jacksonville',\n",
       "       'LasVegas', 'LosAngeles', 'Louisville', 'MiamiFtLauderdale',\n",
       "       'Midsouth', 'Nashville', 'NewOrleansMobile', 'NewYork',\n",
       "       'Northeast', 'NorthernNewEngland', 'Orlando', 'Philadelphia',\n",
       "       'PhoenixTucson', 'Pittsburgh', 'Plains', 'Portland',\n",
       "       'RaleighGreensboro', 'RichmondNorfolk', 'Roanoke', 'Sacramento',\n",
       "       'SanDiego', 'SanFrancisco', 'Seattle', 'SouthCarolina',\n",
       "       'SouthCentral', 'Southeast', 'Spokane', 'StLouis', 'Syracuse',\n",
       "       'Tampa', 'TotalUS', 'West', 'WestTexNewMexico'], dtype=object)"
      ]
     },
     "execution_count": 5,
     "metadata": {},
     "output_type": "execute_result"
    }
   ],
   "source": [
    "df['region'].unique()"
   ]
  },
  {
   "cell_type": "code",
   "execution_count": 9,
   "metadata": {},
   "outputs": [],
   "source": [
    "def ARMformat(a,b,tb):\n",
    "    collect = []\n",
    "    for x in df[a].unique():\n",
    "        q = \"SELECT \"+b+\" FROM \"+tb+\" WHERE \"+a+\"='\"+x+\"'\"\n",
    "        res = pd.read_sql_query(q,engine)\n",
    "        res=res[b].unique()\n",
    "        resclean = []\n",
    "        for i in res:\n",
    "            if i!=None:\n",
    "                resclean.append(i)\n",
    "        resmin = resclean[0:10] #terpaksa biar cepat saja\n",
    "        collect.append(list(resmin))\n",
    "    return collect"
   ]
  },
  {
   "cell_type": "code",
   "execution_count": 13,
   "metadata": {},
   "outputs": [
    {
     "data": {
      "text/plain": [
       "54"
      ]
     },
     "execution_count": 13,
     "metadata": {},
     "output_type": "execute_result"
    }
   ],
   "source": [
    "data = ARMformat('region','AveragePrice','avocado')\n",
    "len(data)"
   ]
  },
  {
   "cell_type": "code",
   "execution_count": 14,
   "metadata": {},
   "outputs": [
    {
     "name": "stdout",
     "output_type": "stream",
     "text": [
      "Albany [1.33, 1.35, 0.93, 1.08, 1.28, 1.26, 0.99, 0.98, 1.02, 1.07] \n",
      "\n",
      "Atlanta [0.99, 1.08, 0.96, 1.07, 1.0, 1.13, 1.12, 1.09, 0.95, 0.93] \n",
      "\n",
      "BaltimoreWashington [1.17, 1.11, 1.15, 1.04, 1.16, 1.12, 1.05, 1.19, 0.99, 1.24] \n",
      "\n",
      "Boise [0.97, 1.03, 0.99, 0.71, 1.06, 1.09, 1.01, 1.11, 1.14, 1.16] \n",
      "\n",
      "Boston [1.13, 1.07, 1.01, 1.02, 1.19, 1.05, 1.04, 1.06, 0.94, 1.14] \n",
      "\n",
      "BuffaloRochester [1.35, 1.37, 1.23, 1.39, 1.4, 1.36, 1.3, 1.29, 1.33, 1.31] \n",
      "\n",
      "California [0.9, 0.94, 0.87, 0.78, 0.91, 0.92, 0.83, 0.98, 0.95, 1.12] \n",
      "\n",
      "Charlotte [0.96, 0.98, 0.95, 0.99, 1.0, 1.01, 1.03, 1.11, 1.27, 1.26] \n",
      "\n",
      "Chicago [0.93, 0.91, 1.07, 1.14, 1.11, 0.94, 1.17, 1.01, 1.0, 1.12] \n",
      "\n",
      "CincinnatiDayton [0.87, 0.85, 0.79, 0.83, 0.88, 0.89, 0.93, 1.01, 0.98, 0.91] \n",
      "\n",
      "Columbus [0.99, 1.03, 1.04, 0.95, 0.98, 0.9, 0.93, 1.02, 1.0, 1.08] \n",
      "\n",
      "DallasFtWorth [0.8, 0.82, 0.79, 0.74, 0.78, 0.71, 0.86, 0.83, 0.81, 0.84] \n",
      "\n",
      "Denver [0.98, 1.05, 0.83, 0.76, 1.12, 0.85, 0.82, 0.93, 0.87, 0.9] \n",
      "\n",
      "Detroit [1.08, 1.1, 1.05, 0.98, 1.11, 1.09, 1.03, 1.04, 1.17, 0.97] \n",
      "\n",
      "GrandRapids [1.13, 1.24, 0.93, 1.12, 1.11, 1.2, 0.91, 1.14, 0.94, 0.97] \n",
      "\n",
      "GreatLakes [1.01, 1.03, 1.0, 1.07, 1.09, 0.98, 1.1, 1.02, 1.05, 1.04] \n",
      "\n",
      "HarrisburgScranton [1.16, 1.11, 1.14, 1.1, 1.17, 1.09, 1.13, 0.93, 1.05, 1.15] \n",
      "\n",
      "HartfordSpringfield [1.27, 1.18, 1.24, 1.19, 1.32, 1.12, 1.16, 1.2, 0.93, 1.38] \n",
      "\n",
      "Houston [0.78, 0.75, 0.73, 0.74, 0.79, 0.72, 0.77, 0.88, 0.9, 0.82] \n",
      "\n",
      "Indianapolis [1.04, 1.1, 1.03, 0.92, 1.08, 1.11, 0.96, 1.01, 1.02, 0.97] \n",
      "\n",
      "Jacksonville [0.99, 1.19, 0.96, 0.98, 1.25, 0.97, 1.22, 1.27, 1.24, 1.26] \n",
      "\n",
      "LasVegas [0.83, 0.96, 0.95, 0.89, 0.98, 0.92, 0.99, 0.91, 0.94, 0.97] \n",
      "\n",
      "LosAngeles [0.8, 0.85, 0.74, 0.66, 0.83, 0.81, 0.84, 0.89, 0.95, 0.92] \n",
      "\n",
      "Louisville [1.04, 1.05, 0.91, 0.83, 0.97, 1.01, 0.93, 0.89, 1.06, 1.03] \n",
      "\n",
      "MiamiFtLauderdale [0.99, 1.21, 0.97, 1.25, 0.98, 1.22, 1.24, 1.0, 1.31, 1.26] \n",
      "\n",
      "Midsouth [1.05, 1.03, 1.0, 1.06, 1.02, 1.04, 1.08, 1.13, 1.18, 1.11] \n",
      "\n",
      "Nashville [0.96, 0.99, 0.91, 1.0, 0.95, 1.04, 1.03, 0.94, 1.05, 0.97] \n",
      "\n",
      "NewOrleansMobile [0.91, 0.92, 0.86, 0.94, 0.9, 0.98, 0.96, 0.97, 1.01, 1.02] \n",
      "\n",
      "NewYork [1.17, 1.23, 1.12, 1.2, 1.16, 1.14, 1.04, 1.13, 1.06, 0.97] \n",
      "\n",
      "Northeast [1.2, 1.09, 1.14, 1.22, 1.16, 1.1, 1.15, 0.99, 1.23, 1.21] \n",
      "\n",
      "NorthernNewEngland [1.21, 1.17, 0.95, 1.11, 1.25, 1.08, 1.07, 0.96, 1.0, 1.19] \n",
      "\n",
      "Orlando [0.99, 1.21, 0.96, 1.2, 0.98, 1.24, 0.97, 1.25, 1.0, 1.28] \n",
      "\n",
      "Philadelphia [1.25, 1.33, 1.18, 1.23, 1.17, 1.27, 1.13, 1.19, 1.06, 1.26] \n",
      "\n",
      "PhoenixTucson [0.49, 0.53, 0.66, 0.56, 0.75, 0.77, 0.62, 0.6, 0.71, 0.83] \n",
      "\n",
      "Pittsburgh [1.25, 1.22, 1.19, 1.21, 1.26, 1.3, 1.24, 0.93, 1.16, 1.23] \n",
      "\n",
      "Plains [1.1, 1.13, 1.02, 1.08, 1.11, 1.09, 1.12, 1.05, 1.14, 0.99] \n",
      "\n",
      "Portland [1.01, 0.98, 0.93, 0.73, 1.04, 1.03, 0.9, 1.06, 0.91, 1.05] \n",
      "\n",
      "RaleighGreensboro [0.96, 0.98, 0.97, 1.02, 1.0, 1.07, 1.12, 1.22, 1.23, 1.17] \n",
      "\n",
      "RichmondNorfolk [0.98, 0.99, 1.01, 0.94, 0.95, 1.0, 1.02, 1.04, 0.97, 1.06] \n",
      "\n",
      "Roanoke [0.96, 1.0, 1.01, 1.03, 0.99, 0.98, 1.04, 1.09, 1.14, 1.12] \n",
      "\n",
      "Sacramento [0.98, 1.0, 1.07, 0.99, 1.06, 0.94, 1.14, 1.02, 1.26, 1.28] \n",
      "\n",
      "SanDiego [0.92, 0.94, 0.84, 0.67, 0.91, 0.98, 0.85, 1.01, 1.08, 1.03] \n",
      "\n",
      "SanFrancisco [1.05, 1.15, 1.22, 1.06, 1.04, 0.99, 1.4, 0.97, 1.55, 1.52] \n",
      "\n",
      "Seattle [1.09, 1.15, 1.05, 0.81, 1.17, 1.07, 0.93, 1.06, 1.14, 1.03] \n",
      "\n",
      "SouthCarolina [0.98, 1.04, 0.96, 1.03, 0.97, 0.99, 1.07, 1.08, 1.0, 1.11] \n",
      "\n",
      "SouthCentral [0.81, 0.78, 0.76, 0.82, 0.8, 0.86, 0.87, 0.83, 0.84, 0.88] \n",
      "\n",
      "Southeast [0.98, 1.12, 0.96, 1.13, 0.97, 1.16, 1.15, 1.17, 1.19, 1.0] \n",
      "\n",
      "Spokane [1.05, 1.12, 0.99, 0.85, 1.17, 1.0, 1.08, 1.13, 0.94, 1.09] \n",
      "\n",
      "StLouis [1.1, 1.13, 0.99, 1.09, 1.16, 1.15, 1.07, 1.18, 1.21, 1.26] \n",
      "\n",
      "Syracuse [1.36, 1.32, 1.17, 1.41, 1.38, 1.21, 1.23, 1.16, 1.26, 1.34] \n",
      "\n",
      "Tampa [0.97, 1.15, 0.96, 1.17, 1.22, 1.21, 1.12, 1.11, 0.88, 0.89] \n",
      "\n",
      "TotalUS [0.95, 0.98, 0.93, 0.89, 0.99, 0.96, 0.92, 0.97, 1.04, 1.0] \n",
      "\n",
      "West [0.83, 0.88, 0.85, 0.75, 0.99, 0.92, 0.9, 0.95, 0.89, 0.91] \n",
      "\n",
      "WestTexNewMexico [0.71, 0.83, 0.78, 0.74, 0.81, 0.76, 0.8, 0.82, 0.89, 0.85] \n",
      "\n"
     ]
    }
   ],
   "source": [
    "i = 0\n",
    "pre = df['region'].unique()\n",
    "for dt in data:\n",
    "    print(pre[i],dt,\"\\n\")\n",
    "    i+=1"
   ]
  },
  {
   "cell_type": "markdown",
   "metadata": {},
   "source": [
    "FPGrowth"
   ]
  },
  {
   "cell_type": "code",
   "execution_count": 15,
   "metadata": {},
   "outputs": [
    {
     "name": "stdout",
     "output_type": "stream",
     "text": [
      "Collecting pyfpgrowth\n",
      "  Downloading https://files.pythonhosted.org/packages/d2/4c/8b7cd90b4118ff0286d6584909b99e1ca5642bdc9072fa5a8dd361c864a0/pyfpgrowth-1.0.tar.gz (1.6MB)\n",
      "Building wheels for collected packages: pyfpgrowth\n",
      "  Building wheel for pyfpgrowth (setup.py): started\n",
      "  Building wheel for pyfpgrowth (setup.py): finished with status 'done'\n",
      "  Stored in directory: C:\\Users\\janmu\\AppData\\Local\\pip\\Cache\\wheels\\3b\\3f\\0d\\a04bb8b17887c1eca7d0f1a48d4aa0c09c96eb221ff7fa56c1\n",
      "Successfully built pyfpgrowth\n",
      "Installing collected packages: pyfpgrowth\n",
      "Successfully installed pyfpgrowth-1.0\n"
     ]
    }
   ],
   "source": [
    "!pip install pyfpgrowth"
   ]
  },
  {
   "cell_type": "code",
   "execution_count": 16,
   "metadata": {},
   "outputs": [],
   "source": [
    "import pyfpgrowth"
   ]
  },
  {
   "cell_type": "code",
   "execution_count": 17,
   "metadata": {},
   "outputs": [
    {
     "name": "stdout",
     "output_type": "stream",
     "text": [
      "(0.78,) : 5\n",
      "(0.88,) : 5\n",
      "(0.82,) : 5\n",
      "(0.81,) : 5\n",
      "(1.2,) : 5\n",
      "(1.25,) : 6\n",
      "(1.24,) : 7\n",
      "(1.23,) : 7\n",
      "(0.9,) : 7\n",
      "(0.9, 0.98) : 5\n",
      "(0.85,) : 7\n",
      "(0.83, 0.85) : 5\n",
      "(1.1,) : 7\n",
      "(1.09, 1.1) : 6\n",
      "(1.22,) : 7\n",
      "(0.97, 1.22) : 5\n",
      "(1.15, 1.16) : 5\n",
      "(1.15, 1.17) : 5\n",
      "(1.19,) : 8\n",
      "(0.92, 0.95) : 5\n",
      "(0.91, 0.92) : 5\n",
      "(0.92, 0.98) : 5\n",
      "(0.89,) : 8\n",
      "(0.83, 0.89) : 6\n",
      "(1.21,) : 8\n",
      "(1.26,) : 9\n",
      "(0.98, 1.26) : 5\n",
      "(0.99, 1.26) : 6\n",
      "(0.98, 0.99, 1.26) : 5\n",
      "(1.16,) : 10\n",
      "(1.16, 1.17) : 5\n",
      "(0.98, 1.08) : 5\n",
      "(1.04, 1.08) : 5\n",
      "(1.03, 1.04, 1.08) : 5\n",
      "(0.99, 1.08) : 6\n",
      "(1.0, 1.08) : 6\n",
      "(1.03, 1.08) : 6\n",
      "(1.08, 1.11) : 6\n",
      "(0.99, 1.02) : 5\n",
      "(1.01, 1.02) : 5\n",
      "(1.02, 1.04) : 6\n",
      "(1.0, 1.02) : 6\n",
      "(0.98, 1.0, 1.02) : 5\n",
      "(0.98, 1.02) : 7\n",
      "(0.98, 1.07) : 5\n",
      "(0.99, 1.07) : 5\n",
      "(1.0, 1.07) : 7\n",
      "(1.05, 1.13) : 5\n",
      "(1.13, 1.17) : 5\n",
      "(1.12, 1.13) : 6\n",
      "(1.03, 1.09) : 5\n",
      "(1.05, 1.09) : 6\n",
      "(0.99, 1.09) : 7\n",
      "(0.95, 0.96, 1.0) : 5\n",
      "(0.95, 0.96, 0.99) : 5\n",
      "(0.95, 0.98) : 6\n",
      "(0.95, 0.98, 0.99) : 5\n",
      "(0.95, 1.0) : 7\n",
      "(0.95, 0.99, 1.0) : 6\n",
      "(0.95, 0.99) : 8\n",
      "(1.01, 1.06) : 5\n",
      "(1.03, 1.06) : 5\n",
      "(0.97, 1.06) : 5\n",
      "(1.05, 1.06) : 6\n",
      "(1.04, 1.05, 1.06) : 5\n",
      "(1.04, 1.06) : 7\n",
      "(1.09, 1.14) : 5\n",
      "(1.11, 1.14) : 5\n",
      "(0.99, 1.14) : 5\n",
      "(1.12, 1.14) : 5\n",
      "(0.94, 1.01) : 5\n",
      "(0.91, 0.94) : 5\n",
      "(0.94, 1.0) : 5\n",
      "(0.94, 0.97) : 5\n",
      "(0.94, 0.99) : 5\n",
      "(0.94, 0.98) : 6\n",
      "(0.91, 0.93) : 5\n",
      "(0.91, 0.97) : 5\n",
      "(0.91, 0.98) : 6\n",
      "(0.91, 1.01) : 6\n",
      "(0.83,) : 11\n",
      "(1.05, 1.17) : 5\n",
      "(1.0, 1.17) : 5\n",
      "(0.97, 1.17) : 5\n",
      "(1.12, 1.17) : 7\n",
      "(1.05, 1.11) : 5\n",
      "(1.11, 1.12) : 5\n",
      "(1.04, 1.11) : 5\n",
      "(0.99, 1.11) : 5\n",
      "(0.96, 1.11) : 5\n",
      "(1.0, 1.11) : 5\n",
      "(1.03, 1.11) : 6\n",
      "(0.97, 1.11) : 6\n",
      "(0.97, 1.01) : 5\n",
      "(1.0, 1.01) : 5\n",
      "(1.01, 1.04) : 7\n",
      "(1.01, 1.03, 1.04) : 5\n",
      "(1.01, 1.03) : 8\n",
      "(0.98, 1.01) : 8\n",
      "(0.98, 1.01, 1.03) : 5\n",
      "(0.93,) : 14\n",
      "(0.93, 0.98) : 6\n",
      "(0.96, 1.12) : 5\n",
      "(0.99, 1.12) : 5\n",
      "(0.98, 1.12) : 5\n",
      "(0.97, 1.12) : 5\n",
      "(1.0, 1.12) : 6\n",
      "(0.99, 1.05) : 5\n",
      "(1.04, 1.05) : 9\n",
      "(0.96, 1.03) : 5\n",
      "(0.97, 1.03) : 6\n",
      "(0.97, 1.03, 1.04) : 5\n",
      "(0.99, 1.03) : 6\n",
      "(0.99, 1.0, 1.03) : 5\n",
      "(0.98, 1.0, 1.03) : 5\n",
      "(1.0, 1.03, 1.04) : 6\n",
      "(0.98, 1.03) : 8\n",
      "(0.98, 1.03, 1.04) : 6\n",
      "(1.03, 1.04) : 10\n",
      "(0.96, 1.04) : 5\n",
      "(0.96, 0.97, 0.99) : 6\n",
      "(0.96, 0.97, 0.98, 0.99) : 5\n",
      "(0.96, 0.99, 1.0) : 7\n",
      "(0.96, 0.98, 0.99, 1.0) : 5\n",
      "(0.96, 0.98, 0.99) : 7\n",
      "(0.96, 1.0) : 10\n",
      "(0.96, 0.97, 1.0) : 6\n",
      "(0.96, 0.98, 1.0) : 7\n",
      "(0.96, 0.97, 0.98, 1.0) : 5\n",
      "(0.96, 0.97, 0.98) : 8\n",
      "(0.96, 0.97) : 11\n",
      "(0.97, 0.99, 1.04) : 5\n",
      "(0.99, 1.0, 1.04) : 6\n",
      "(1.0, 1.04) : 8\n",
      "(0.98, 1.04) : 8\n",
      "(0.98, 1.0, 1.04) : 6\n",
      "(0.97, 1.04) : 9\n",
      "(0.97, 0.99, 1.0) : 6\n",
      "(0.97, 0.98, 0.99, 1.0) : 5\n",
      "(0.97, 0.98, 1.0) : 7\n",
      "(0.99, 1.0) : 12\n",
      "(0.98, 1.0) : 12\n",
      "(0.98, 0.99, 1.0) : 5\n",
      "(0.97, 0.99) : 10\n",
      "(0.97, 0.98, 0.99) : 7\n",
      "(0.97, 0.98) : 11\n",
      "(0.99,) : 22\n",
      "(0.98, 0.99) : 12\n",
      "(0.98,) : 22\n"
     ]
    }
   ],
   "source": [
    "patterns = pyfpgrowth.find_frequent_patterns(data, 5)\n",
    "for p,d in patterns.items():\n",
    "    print(p,\":\",d)"
   ]
  },
  {
   "cell_type": "code",
   "execution_count": 18,
   "metadata": {},
   "outputs": [
    {
     "name": "stdout",
     "output_type": "stream",
     "text": [
      "(0.98, 1.26) => ((0.99,), 1.0)\n",
      "(1.04, 1.08) => ((1.03,), 1.0)\n",
      "(0.98, 0.99, 1.0) => ((0.97,), 1.0)\n"
     ]
    }
   ],
   "source": [
    "rules = pyfpgrowth.generate_association_rules(patterns, 1.0)\n",
    "for p,d in rules.items():\n",
    "    print(p,\"=>\",d)"
   ]
  },
  {
   "cell_type": "markdown",
   "metadata": {},
   "source": [
    "Apriori"
   ]
  },
  {
   "cell_type": "code",
   "execution_count": 20,
   "metadata": {},
   "outputs": [
    {
     "name": "stdout",
     "output_type": "stream",
     "text": [
      "Collecting efficient_apriori\n",
      "  Downloading https://files.pythonhosted.org/packages/5b/cb/cd06eb983e4a67d9b127df6e3ece87dd7ebea145daa4250929531315bbff/efficient_apriori-1.0.0-py3-none-any.whl\n",
      "Installing collected packages: efficient-apriori\n",
      "Successfully installed efficient-apriori-1.0.0\n"
     ]
    }
   ],
   "source": [
    "!pip install efficient_apriori"
   ]
  },
  {
   "cell_type": "code",
   "execution_count": 21,
   "metadata": {},
   "outputs": [],
   "source": [
    "from efficient_apriori import apriori"
   ]
  },
  {
   "cell_type": "code",
   "execution_count": 22,
   "metadata": {},
   "outputs": [],
   "source": [
    "itemsets, rules = apriori(data, min_support=0.2,  min_confidence=0.2)"
   ]
  },
  {
   "cell_type": "code",
   "execution_count": 23,
   "metadata": {},
   "outputs": [
    {
     "name": "stdout",
     "output_type": "stream",
     "text": [
      "(0.97,)=>(0.96,)\t0.2037037037037037\t0.5789473684210527\t2.0842105263157893\t1.715277773703993\n",
      "(0.96,)=>(0.97,)\t0.2037037037037037\t0.7333333333333333\t2.0842105263157893\t2.4305555464409716\n",
      "(0.98,)=>(0.97,)\t0.2037037037037037\t0.5\t1.4210526315789473\t1.2962962937037037\n",
      "(0.97,)=>(0.98,)\t0.2037037037037037\t0.5789473684210527\t1.4210526315789473\t1.4074074040648148\n",
      "(0.99,)=>(0.98,)\t0.2222222222222222\t0.5454545454545454\t1.3388429752066113\t1.3037037008355552\n",
      "(0.98,)=>(0.99,)\t0.2222222222222222\t0.5454545454545454\t1.3388429752066113\t1.3037037008355552\n",
      "(1.0,)=>(0.98,)\t0.2222222222222222\t0.6666666666666666\t1.6363636363636365\t1.7777777724444441\n",
      "(0.98,)=>(1.0,)\t0.2222222222222222\t0.5454545454545454\t1.6363636363636365\t1.4666666634399999\n",
      "(1.0,)=>(0.99,)\t0.2222222222222222\t0.6666666666666666\t1.6363636363636365\t1.7777777724444441\n",
      "(0.99,)=>(1.0,)\t0.2222222222222222\t0.5454545454545454\t1.6363636363636365\t1.4666666634399999\n"
     ]
    }
   ],
   "source": [
    "hasil = []\n",
    "for x in rules:\n",
    "    hasil.append([str(x.lhs)+\"=>\"+str(x.rhs),x.support,x.confidence,x.lift,x.conviction])\n",
    "    print(str(x.lhs)+\"=>\"+str(x.rhs),x.support,x.confidence,x.lift,x.conviction,sep=\"\\t\")"
   ]
  },
  {
   "cell_type": "code",
   "execution_count": null,
   "metadata": {},
   "outputs": [],
   "source": []
  }
 ],
 "metadata": {
  "kernelspec": {
   "display_name": "Python 3",
   "language": "python",
   "name": "python3"
  },
  "language_info": {
   "codemirror_mode": {
    "name": "ipython",
    "version": 3
   },
   "file_extension": ".py",
   "mimetype": "text/x-python",
   "name": "python",
   "nbconvert_exporter": "python",
   "pygments_lexer": "ipython3",
   "version": "3.7.3"
  }
 },
 "nbformat": 4,
 "nbformat_minor": 2
}
